{
 "cells": [
  {
   "cell_type": "markdown",
   "metadata": {},
   "source": [
    "# Creating Issues for Projects in GitLab"
   ]
  },
  {
   "cell_type": "markdown",
   "metadata": {},
   "source": [
    "Creating issues  en mass in GitLab (using the web interface) is sometimes tidious or may require unnecessary context switching. This lab is to show how you can create bulk of issues using python."
   ]
  },
  {
   "cell_type": "markdown",
   "metadata": {},
   "source": [
    "# Requirement"
   ]
  },
  {
   "cell_type": "markdown",
   "metadata": {},
   "source": [
    "1) You need to install python-gitlab library (https://python-gitlab.readthedocs.io/en/stable/gl_objects/issues.html#project-issues) in order to perform more complex logic during issue creation\n",
    "\n",
    "2) You need to create a project and get its id. \n",
    "\n",
    "3) You need to have personal access token."
   ]
  },
  {
   "cell_type": "code",
   "execution_count": null,
   "metadata": {},
   "outputs": [],
   "source": [
    "! pip install python-gitlab"
   ]
  },
  {
   "cell_type": "markdown",
   "metadata": {},
   "source": [
    "# Steps"
   ]
  },
  {
   "cell_type": "markdown",
   "metadata": {},
   "source": [
    "1) Authentication\n",
    "\n",
    "Provide your personal access token and the Gitlab instance url. You can generate a token with the necessary scopes (e.g., API) from your GitLab profile settings.\n",
    "\n",
    "2) Project Selection\n",
    "\n",
    "Provide the ID of the project where you want to create the issue. You can find the project ID in the project's URL (see screenshot below).\n",
    "\n",
    "3) Creating the Issue\n",
    "\n",
    "The new issue uses dictionary and defines the title, description, and labels for the new issue. You can customize these fields as needed. Once the dictionary is populated with the necessary information, the project.issues.create(new_issue) method creates the issue and returns an Issue object. The full code for creating a new issue is shown below: "
   ]
  },
  {
   "cell_type": "code",
   "execution_count": null,
   "metadata": {},
   "outputs": [],
   "source": [
    "import gitlab\n",
    "\n",
    "# Create Issue on project: https://git.rwth-aachen.de/chala/wood-supply-chain\n",
    "\n",
    "# Authenticate to GitLab\n",
    "#gl = gitlab.Gitlab('https://your_gitlab_instance_url', private_token='your_private_token')\n",
    "gl = gitlab.Gitlab('https://git.rwth-aachen.de', private_token='your_private_token')\n",
    "\n",
    "# Select the project\n",
    "#project = gl.projects.get(project_id='your_project_id')\n",
    "project = gl.projects.get(id='id') \n",
    "\n",
    "# Create a new issue\n",
    "new_issue = {\n",
    "    'title': 'New Issue Title',\n",
    "    'description': 'This is a new issue description.',\n",
    "    'labels': ['bug', 'frontend']\n",
    "}\n",
    "\n",
    "issue = project.issues.create(new_issue)\n",
    "\n",
    "print(f\"New issue created: {issue.title}\")"
   ]
  },
  {
   "cell_type": "markdown",
   "metadata": {},
   "source": [
    "How (and from where) do you get project id? You can get project id by clicking the 3 dots after Fork on Gitlab web interface as shown in the screenshot below. As soon as you click the three dots, you will see the popup that reads \"Copy project ID: <id>\". Clicking on the popup will copy the project id to clipboard. You can then paste it in ```project = gl.projects.get(id='your_project_id')``` to replace the placeholder ```your_project_id```."
   ]
  },
  {
   "cell_type": "markdown",
   "metadata": {},
   "source": [
    "<img src=\"how_to_get_project_id.png\" alt=\"drawing\" width=\"600\"/>"
   ]
  },
  {
   "cell_type": "markdown",
   "metadata": {},
   "source": [
    "You can extend the above code by incorporating the following: \n",
    "- Error Handling: Consider adding error handling mechanisms to handle exceptions like authentication failures, API rate limits, or network errors.\n",
    "- Asynchronous Operations: For large-scale operations, you might want to explore asynchronous programming techniques to improve performance.\n",
    "- Advanced Features: The gitlab library offers many more features, such as assigning issues to users, setting due dates, and closing issues. Refer to the library's documentation for detailed usage."
   ]
  }
 ],
 "metadata": {
  "kernelspec": {
   "display_name": "Python 3",
   "language": "python",
   "name": "python3"
  },
  "language_info": {
   "codemirror_mode": {
    "name": "ipython",
    "version": 3
   },
   "file_extension": ".py",
   "mimetype": "text/x-python",
   "name": "python",
   "nbconvert_exporter": "python",
   "pygments_lexer": "ipython3",
   "version": "3.11.9"
  }
 },
 "nbformat": 4,
 "nbformat_minor": 2
}
